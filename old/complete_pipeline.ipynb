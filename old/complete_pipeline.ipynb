{
 "cells": [
  {
   "cell_type": "code",
   "execution_count": 17,
   "metadata": {},
   "outputs": [
    {
     "ename": "ImportError",
     "evalue": "cannot import name 'UMAP' from 'umap' (/home/kunal/.local/lib/python3.10/site-packages/umap/__init__.py)",
     "output_type": "error",
     "traceback": [
      "\u001b[0;31m---------------------------------------------------------------------------\u001b[0m",
      "\u001b[0;31mImportError\u001b[0m                               Traceback (most recent call last)",
      "Cell \u001b[0;32mIn[17], line 6\u001b[0m\n\u001b[1;32m      4\u001b[0m \u001b[39mfrom\u001b[39;00m \u001b[39msklearn\u001b[39;00m\u001b[39m.\u001b[39;00m\u001b[39mdecomposition\u001b[39;00m \u001b[39mimport\u001b[39;00m PCA\n\u001b[1;32m      5\u001b[0m \u001b[39mfrom\u001b[39;00m \u001b[39msklearn\u001b[39;00m\u001b[39m.\u001b[39;00m\u001b[39mmanifold\u001b[39;00m \u001b[39mimport\u001b[39;00m TSNE\n\u001b[0;32m----> 6\u001b[0m \u001b[39mfrom\u001b[39;00m \u001b[39mumap\u001b[39;00m \u001b[39mimport\u001b[39;00m UMAP\n\u001b[1;32m      7\u001b[0m \u001b[39mfrom\u001b[39;00m \u001b[39msklearn\u001b[39;00m\u001b[39m.\u001b[39;00m\u001b[39mfeature_selection\u001b[39;00m \u001b[39mimport\u001b[39;00m SelectKBest, f_regression, RFECV, LassoCV\n\u001b[1;32m      8\u001b[0m \u001b[39mfrom\u001b[39;00m \u001b[39msklearn\u001b[39;00m\u001b[39m.\u001b[39;00m\u001b[39mensemble\u001b[39;00m \u001b[39mimport\u001b[39;00m RandomForestClassifier, GradientBoostingClassifier\n",
      "\u001b[0;31mImportError\u001b[0m: cannot import name 'UMAP' from 'umap' (/home/kunal/.local/lib/python3.10/site-packages/umap/__init__.py)"
     ]
    }
   ],
   "source": [
    "import pandas as pd\n",
    "import numpy as np\n",
    "from sklearn.model_selection import train_test_split\n",
    "from sklearn.decomposition import PCA\n",
    "from sklearn.manifold import TSNE\n",
    "from umap import UMAP\n",
    "from sklearn.feature_selection import SelectKBest, f_regression, RFECV, LassoCV\n",
    "from sklearn.ensemble import RandomForestClassifier, GradientBoostingClassifier\n",
    "from sklearn.svm import SVC\n",
    "from sklearn.neural_network import MLPClassifier\n",
    "from sklearn.pipeline import Pipeline\n",
    "from sklearn.model_selection import GridSearchCV\n",
    "\n",
    "# Load the data (you'll need to obtain the dataset)\n",
    "multi_omics_data = pd.read_csv(\"path/to/multi_omics_data.csv\")\n",
    "target = np.array(multi_omics_data['target'])\n",
    "\n",
    "# Preprocess the data\n",
    "def preprocess_multi_omics_data(data):\n",
    "    # Implement multi-omics preprocessing steps\n",
    "    return preprocessed_data\n",
    "\n",
    "multi_omics_data_preprocessed = preprocess_multi_omics_data(multi_omics_data)\n",
    "\n",
    "# Split the data\n",
    "X_train, X_test, y_train, y_test = train_test_split(multi_omics_data_preprocessed, target, test_size=0.2, random_state=42)\n",
    "\n",
    "# Create the pipeline\n",
    "pipe = Pipeline([\n",
    "    ('reduce_dim', PCA()),\n",
    "    ('select_features', SelectKBest(f_regression, k=10)),\n",
    "    ('classify', RandomForestClassifier())\n",
    "])\n",
    "\n",
    "# Set the parameter grid\n",
    "param_grid = [\n",
    "    {\n",
    "        'reduce_dim': [PCA(), TSNE(), UMAP()],\n",
    "        'reduce_dim__n_components': [2, 5, 10],\n",
    "        'select_features': [SelectKBest(f_regression), RFECV(estimator=RandomForestClassifier()), LassoCV()],\n",
    "        'select_features__k': [5, 10, 20],\n",
    "        'classify': [\n",
    "            RandomForestClassifier(), \n",
    "            SVC(), \n",
    "            MLPClassifier(max_iter=1000), \n",
    "            GradientBoostingClassifier()\n",
    "        ]\n",
    "    }\n",
    "]\n",
    "\n",
    "# Perform the grid search with exception handling\n",
    "try:\n",
    "    grid_search = GridSearchCV(pipe, param_grid=param_grid, cv=5, n_jobs=-1)\n",
    "    grid_search.fit(X_train, y_train)\n",
    "    print(\"Best parameters:\", grid_search.best_params_)\n",
    "    print(\"Test score:\", grid_search.score(X_test, y_test))\n",
    "except Exception as e:\n",
    "    print(\"Error occurred during grid search:\", e)\n"
   ]
  }
 ],
 "metadata": {
  "kernelspec": {
   "display_name": "Python 3",
   "language": "python",
   "name": "python3"
  },
  "language_info": {
   "codemirror_mode": {
    "name": "ipython",
    "version": 3
   },
   "file_extension": ".py",
   "mimetype": "text/x-python",
   "name": "python",
   "nbconvert_exporter": "python",
   "pygments_lexer": "ipython3",
   "version": "3.10.6"
  },
  "orig_nbformat": 4
 },
 "nbformat": 4,
 "nbformat_minor": 2
}
