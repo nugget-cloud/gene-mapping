{
 "cells": [
  {
   "cell_type": "code",
   "execution_count": 1,
   "metadata": {},
   "outputs": [],
   "source": [
    "import networkx as nx\n",
    "import csv\n",
    "from node2vec import Node2Vec\n",
    "import numpy as np\n",
    "import matplotlib.pyplot as plt\n",
    "\n",
    "# Initialize an empty graph\n",
    "G = nx.Graph()\n",
    "\n",
    "# Read the CSV file and add each row as an edge in the graph\n",
    "with open(\"/home/kunal/Desktop/reasearch/data/networkEdgesCoverage.csv\", \"r\") as file:\n",
    "    reader = csv.reader(file)\n",
    "    for row in reader:\n",
    "        node1, node2 = row[0], row[1]\n",
    "        G.add_edge(node1, node2)\n",
    "\n",
    "# Create a node2vec model for the graph\n",
    "node2vec = Node2Vec(G, dimensions=2, walk_length=30, num_walks=200)\n",
    "\n",
    "# Train the model on the graph\n",
    "model = node2vec.fit(window=10, min_count=1)\n",
    "\n",
    "# Get the node embeddings\n",
    "embeddings = model.wv\n",
    "\n",
    "# Write the embeddings to a file\n",
    "with open(\"embeddings.txt\", \"w\") as file:\n",
    "    for node, vec in zip(model.wv.index_to_key, model.wv.vectors):\n",
    "        file.write(\"{} {} {}\\n\".format(node, vec[0], vec[1]))\n",
    "\n",
    "# Load the embeddings from the file\n",
    "embeddings = {}\n",
    "with open(\"embeddings.txt\", \"r\") as file:\n",
    "    for line in file:\n",
    "        parts = line.strip().split()\n",
    "        node = parts[0]\n",
    "        vec = np.array([float(x) for x in parts[1:]])\n",
    "        embeddings[node] = vec\n",
    "\n",
    "# Plot the embeddings using matplotlib\n",
    "x = [embeddings[node][0] for node in embeddings]\n",
    "y = [embeddings[node][1] for node in embeddings]\n",
    "plt.scatter(x, y)\n",
    "plt.show()\n"
   ]
  }
 ],
 "metadata": {
  "kernelspec": {
   "display_name": "Python 3",
   "language": "python",
   "name": "python3"
  },
  "language_info": {
   "codemirror_mode": {
    "name": "ipython",
    "version": 3
   },
   "file_extension": ".py",
   "mimetype": "text/x-python",
   "name": "python",
   "nbconvert_exporter": "python",
   "pygments_lexer": "ipython3",
   "version": "3.10.6"
  },
  "orig_nbformat": 4,
  "vscode": {
   "interpreter": {
    "hash": "e7370f93d1d0cde622a1f8e1c04877d8463912d04d973331ad4851f04de6915a"
   }
  }
 },
 "nbformat": 4,
 "nbformat_minor": 2
}
