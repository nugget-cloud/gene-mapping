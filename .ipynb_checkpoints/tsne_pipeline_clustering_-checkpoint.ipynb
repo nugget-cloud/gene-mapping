{
 "cells": [
  {
   "cell_type": "code",
   "execution_count": 9,
   "metadata": {},
   "outputs": [
    {
     "name": "stdout",
     "output_type": "stream",
     "text": [
      "Error: could not convert string to float: '2592871593,1569760935,1557776894'. Skipping non-numeric data.\n"
     ]
    },
    {
     "ename": "ValueError",
     "evalue": "perplexity must be less than n_samples",
     "output_type": "error",
     "traceback": [
      "\u001b[0;31m---------------------------------------------------------------------------\u001b[0m",
      "\u001b[0;31mValueError\u001b[0m                                Traceback (most recent call last)",
      "Cell \u001b[0;32mIn[9], line 32\u001b[0m\n\u001b[1;32m     29\u001b[0m model \u001b[39m=\u001b[39m TSNE(n_components\u001b[39m=\u001b[39mn_components, perplexity\u001b[39m=\u001b[39mperplexity)\n\u001b[1;32m     31\u001b[0m \u001b[39m# Fit the model to the data and transform the data into the reduced space\u001b[39;00m\n\u001b[0;32m---> 32\u001b[0m reduced_data \u001b[39m=\u001b[39m model\u001b[39m.\u001b[39;49mfit_transform(float_data)\n\u001b[1;32m     34\u001b[0m \u001b[39m# Perform clustering on the reduced data\u001b[39;00m\n\u001b[1;32m     35\u001b[0m n_clusters \u001b[39m=\u001b[39m \u001b[39m10\u001b[39m\n",
      "File \u001b[0;32m~/.local/lib/python3.10/site-packages/sklearn/manifold/_t_sne.py:1118\u001b[0m, in \u001b[0;36mTSNE.fit_transform\u001b[0;34m(self, X, y)\u001b[0m\n\u001b[1;32m   1097\u001b[0m \u001b[39m\"\"\"Fit X into an embedded space and return that transformed output.\u001b[39;00m\n\u001b[1;32m   1098\u001b[0m \n\u001b[1;32m   1099\u001b[0m \u001b[39mParameters\u001b[39;00m\n\u001b[0;32m   (...)\u001b[0m\n\u001b[1;32m   1115\u001b[0m \u001b[39m    Embedding of the training data in low-dimensional space.\u001b[39;00m\n\u001b[1;32m   1116\u001b[0m \u001b[39m\"\"\"\u001b[39;00m\n\u001b[1;32m   1117\u001b[0m \u001b[39mself\u001b[39m\u001b[39m.\u001b[39m_validate_params()\n\u001b[0;32m-> 1118\u001b[0m \u001b[39mself\u001b[39;49m\u001b[39m.\u001b[39;49m_check_params_vs_input(X)\n\u001b[1;32m   1119\u001b[0m embedding \u001b[39m=\u001b[39m \u001b[39mself\u001b[39m\u001b[39m.\u001b[39m_fit(X)\n\u001b[1;32m   1120\u001b[0m \u001b[39mself\u001b[39m\u001b[39m.\u001b[39membedding_ \u001b[39m=\u001b[39m embedding\n",
      "File \u001b[0;32m~/.local/lib/python3.10/site-packages/sklearn/manifold/_t_sne.py:829\u001b[0m, in \u001b[0;36mTSNE._check_params_vs_input\u001b[0;34m(self, X)\u001b[0m\n\u001b[1;32m    827\u001b[0m \u001b[39mdef\u001b[39;00m \u001b[39m_check_params_vs_input\u001b[39m(\u001b[39mself\u001b[39m, X):\n\u001b[1;32m    828\u001b[0m     \u001b[39mif\u001b[39;00m \u001b[39mself\u001b[39m\u001b[39m.\u001b[39mperplexity \u001b[39m>\u001b[39m\u001b[39m=\u001b[39m X\u001b[39m.\u001b[39mshape[\u001b[39m0\u001b[39m]:\n\u001b[0;32m--> 829\u001b[0m         \u001b[39mraise\u001b[39;00m \u001b[39mValueError\u001b[39;00m(\u001b[39m\"\u001b[39m\u001b[39mperplexity must be less than n_samples\u001b[39m\u001b[39m\"\u001b[39m)\n",
      "\u001b[0;31mValueError\u001b[0m: perplexity must be less than n_samples"
     ]
    }
   ],
   "source": [
    "from sklearn.manifold import TSNE\n",
    "import numpy as np\n",
    "import matplotlib.pyplot as plt\n",
    "from sklearn.cluster import KMeans\n",
    "\n",
    "# Load data from text file\n",
    "try:\n",
    "    data = np.loadtxt('embeddings.txt')\n",
    "except ValueError as e:\n",
    "    print(f\"Error: {e}. Skipping non-numeric data.\")\n",
    "    data = np.genfromtxt('embeddings.txt', dtype='unicode')\n",
    "\n",
    "# Convert data to float type, skipping non-numeric data\n",
    "float_data = []\n",
    "for row in data:\n",
    "    try:\n",
    "        float_row = row.astype(float)\n",
    "        float_data.append(float_row)\n",
    "    except ValueError:\n",
    "        pass\n",
    "\n",
    "# Convert float data to numpy array\n",
    "float_data = np.array(float_data)\n",
    "# Define t-SNE model parameters\n",
    "n_components = 2 # Number of components in the reduced space\n",
    "perplexity = 250# The perplexity parameter controls the balance between preserving small and large distances\n",
    "\n",
    "# Initialize t-SNE model\n",
    "model = TSNE(n_components=n_components, perplexity=perplexity)\n",
    "\n",
    "# Fit the model to the data and transform the data into the reduced space\n",
    "reduced_data = model.fit_transform(float_data)\n",
    "\n",
    "# Perform clustering on the reduced data\n",
    "n_clusters = 10\n",
    "kmeans = KMeans(n_clusters=n_clusters)\n",
    "clusters = kmeans.fit_predict(reduced_data)\n",
    "\n",
    "# Plot the reduced data with different colors for each cluster\n",
    "plt.scatter(reduced_data[:, 0], reduced_data[:, 1], c=clusters)\n",
    "plt.show()\n"
   ]
  }
 ],
 "metadata": {
  "kernelspec": {
   "display_name": "Python 3 (ipykernel)",
   "language": "python",
   "name": "python3"
  },
  "language_info": {
   "codemirror_mode": {
    "name": "ipython",
    "version": 3
   },
   "file_extension": ".py",
   "mimetype": "text/x-python",
   "name": "python",
   "nbconvert_exporter": "python",
   "pygments_lexer": "ipython3",
   "version": "3.10.6"
  },
  "vscode": {
   "interpreter": {
    "hash": "e7370f93d1d0cde622a1f8e1c04877d8463912d04d973331ad4851f04de6915a"
   }
  }
 },
 "nbformat": 4,
 "nbformat_minor": 2
}
