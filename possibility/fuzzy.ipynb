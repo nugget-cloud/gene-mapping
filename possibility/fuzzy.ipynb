{
 "cells": [
  {
   "cell_type": "code",
   "execution_count": 12,
   "metadata": {},
   "outputs": [
    {
     "ename": "ValueError",
     "evalue": "could not convert string to float: 'Unnamed: 0'",
     "output_type": "error",
     "traceback": [
      "\u001b[0;31m---------------------------------------------------------------------------\u001b[0m",
      "\u001b[0;31mValueError\u001b[0m                                Traceback (most recent call last)",
      "Cell \u001b[0;32mIn[12], line 7\u001b[0m\n\u001b[1;32m      4\u001b[0m \u001b[39mimport\u001b[39;00m \u001b[39mmatplotlib\u001b[39;00m\u001b[39m.\u001b[39;00m\u001b[39mpyplot\u001b[39;00m \u001b[39mas\u001b[39;00m \u001b[39mplt\u001b[39;00m\n\u001b[1;32m      6\u001b[0m \u001b[39m# Load the data\u001b[39;00m\n\u001b[0;32m----> 7\u001b[0m data \u001b[39m=\u001b[39m np\u001b[39m.\u001b[39;49mloadtxt(\u001b[39m'\u001b[39;49m\u001b[39m/home/kunal/Desktop/reasearch/data/cosine_similarity_gene_math.csv\u001b[39;49m\u001b[39m'\u001b[39;49m, delimiter\u001b[39m=\u001b[39;49m\u001b[39m'\u001b[39;49m\u001b[39m,\u001b[39;49m\u001b[39m'\u001b[39;49m)\n\u001b[1;32m      9\u001b[0m \u001b[39m# Normalize the data\u001b[39;00m\n\u001b[1;32m     10\u001b[0m data \u001b[39m=\u001b[39m (data \u001b[39m-\u001b[39m np\u001b[39m.\u001b[39mmin(data, axis\u001b[39m=\u001b[39m\u001b[39m0\u001b[39m)) \u001b[39m/\u001b[39m (np\u001b[39m.\u001b[39mmax(data, axis\u001b[39m=\u001b[39m\u001b[39m0\u001b[39m) \u001b[39m-\u001b[39m np\u001b[39m.\u001b[39mmin(data, axis\u001b[39m=\u001b[39m\u001b[39m0\u001b[39m))\n",
      "File \u001b[0;32m~/.local/lib/python3.10/site-packages/numpy/lib/npyio.py:1163\u001b[0m, in \u001b[0;36mloadtxt\u001b[0;34m(fname, dtype, comments, delimiter, converters, skiprows, usecols, unpack, ndmin, encoding, max_rows, like)\u001b[0m\n\u001b[1;32m   1159\u001b[0m         \u001b[39mraise\u001b[39;00m \u001b[39mValueError\u001b[39;00m(\n\u001b[1;32m   1160\u001b[0m             \u001b[39mf\u001b[39m\u001b[39m\"\u001b[39m\u001b[39mWrong number of columns at line \u001b[39m\u001b[39m{\u001b[39;00mlineno\u001b[39m}\u001b[39;00m\u001b[39m\"\u001b[39m)\n\u001b[1;32m   1161\u001b[0m     \u001b[39m# Convert each value according to its column, then pack it\u001b[39;00m\n\u001b[1;32m   1162\u001b[0m     \u001b[39m# according to the dtype's nesting, and store it.\u001b[39;00m\n\u001b[0;32m-> 1163\u001b[0m     chunk\u001b[39m.\u001b[39mappend(packer(convert_row(words)))\n\u001b[1;32m   1164\u001b[0m \u001b[39mif\u001b[39;00m \u001b[39mnot\u001b[39;00m chunk:  \u001b[39m# The islice is empty, i.e. we're done.\u001b[39;00m\n\u001b[1;32m   1165\u001b[0m     \u001b[39mbreak\u001b[39;00m\n",
      "File \u001b[0;32m~/.local/lib/python3.10/site-packages/numpy/lib/npyio.py:1142\u001b[0m, in \u001b[0;36mloadtxt.<locals>.convert_row\u001b[0;34m(vals, _conv)\u001b[0m\n\u001b[1;32m   1141\u001b[0m \u001b[39mdef\u001b[39;00m \u001b[39mconvert_row\u001b[39m(vals, _conv\u001b[39m=\u001b[39mconverters[\u001b[39m0\u001b[39m]):\n\u001b[0;32m-> 1142\u001b[0m     \u001b[39mreturn\u001b[39;00m [\u001b[39m*\u001b[39m\u001b[39mmap\u001b[39m(_conv, vals)]\n",
      "File \u001b[0;32m~/.local/lib/python3.10/site-packages/numpy/lib/npyio.py:725\u001b[0m, in \u001b[0;36m_floatconv\u001b[0;34m(x)\u001b[0m\n\u001b[1;32m    723\u001b[0m \u001b[39mdef\u001b[39;00m \u001b[39m_floatconv\u001b[39m(x):\n\u001b[1;32m    724\u001b[0m     \u001b[39mtry\u001b[39;00m:\n\u001b[0;32m--> 725\u001b[0m         \u001b[39mreturn\u001b[39;00m \u001b[39mfloat\u001b[39;49m(x)  \u001b[39m# The fastest path.\u001b[39;00m\n\u001b[1;32m    726\u001b[0m     \u001b[39mexcept\u001b[39;00m \u001b[39mValueError\u001b[39;00m:\n\u001b[1;32m    727\u001b[0m         \u001b[39mif\u001b[39;00m \u001b[39m'\u001b[39m\u001b[39m0x\u001b[39m\u001b[39m'\u001b[39m \u001b[39min\u001b[39;00m x:  \u001b[39m# Don't accidentally convert \"a\" (\"0xa\") to 10.\u001b[39;00m\n",
      "\u001b[0;31mValueError\u001b[0m: could not convert string to float: 'Unnamed: 0'"
     ]
    }
   ],
   "source": [
    "import numpy as np\n",
    "import skfuzzy as fuzz\n",
    "from skfuzzy.cluster import cmeans\n",
    "import matplotlib.pyplot as plt\n",
    "\n",
    "# Load the data\n",
    "data = np.loadtxt('/home/kunal/Desktop/reasearch/data/cosine_similarity_gene_math.csv', delimiter=',')\n",
    "\n",
    "# Normalize the data\n",
    "data = (data - np.min(data, axis=0)) / (np.max(data, axis=0) - np.min(data, axis=0))\n",
    "\n",
    "# Perform fuzzy clustering\n",
    "cntr, u, _, _, _, _, _ = cmeans(data.T, 10, 500000, error=0.0000005, maxiter=10000000000000000000000000000000)\n",
    "\n",
    "# Extract the cluster labels\n",
    "labels = np.argmax(u, axis=0)\n",
    "\n",
    "# Plot the data points with color-coded clusters\n",
    "fig, ax = plt.subplots()\n",
    "scatter = ax.scatter(data[:, 0], data[:, 1], c=labels, cmap='viridis')\n",
    "\n",
    "# Add a color bar\n",
    "legend = ax.legend(*scatter.legend_elements(),\n",
    "                    loc=\"upper right\", title=\"Clusters\")\n",
    "ax.add_artist(legend)\n",
    "\n",
    "# Plot the cluster centers\n",
    "for i in range(len(cntr)):\n",
    "    ax.scatter(cntr[i][0], cntr[i][1], s=100, marker='X', c='black')\n",
    "\n",
    "plt.show()\n",
    "\n",
    "\n"
   ]
  }
 ],
 "metadata": {
  "kernelspec": {
   "display_name": "Python 3",
   "language": "python",
   "name": "python3"
  },
  "language_info": {
   "codemirror_mode": {
    "name": "ipython",
    "version": 3
   },
   "file_extension": ".py",
   "mimetype": "text/x-python",
   "name": "python",
   "nbconvert_exporter": "python",
   "pygments_lexer": "ipython3",
   "version": "3.10.6"
  },
  "orig_nbformat": 4,
  "vscode": {
   "interpreter": {
    "hash": "e7370f93d1d0cde622a1f8e1c04877d8463912d04d973331ad4851f04de6915a"
   }
  }
 },
 "nbformat": 4,
 "nbformat_minor": 2
}
