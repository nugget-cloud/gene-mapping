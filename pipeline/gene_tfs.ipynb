{
 "cells": [
  {
   "cell_type": "code",
   "execution_count": 1,
   "metadata": {},
   "outputs": [],
   "source": [
    "import os\n",
    "import pandas as pd\n",
    "import numpy as np\n",
    "import matplotlib.pyplot as plt\n",
    "from sklearn.preprocessing import StandardScaler\n",
    "from sklearn.impute import SimpleImputer\n",
    "from sklearn.feature_selection import SelectKBest, RFE\n",
    "from sklearn.ensemble import RandomForestClassifier\n",
    "from sklearn.cluster import KMeans\n",
    "\n",
    "# Load the Yeast_Tfs dataset as a pandas DataFrame\n",
    "data = pd.read_csv('/home/kunal/Desktop/reasearch/pipeline/Yeast_Tfs.csv')\n",
    "\n",
    "# Perform data preprocessing\n",
    "data = data.drop('gene_id.2', axis=1)\n",
    "data = data.set_index('gene_id.1')\n",
    "data = data.drop_duplicates()\n",
    "data = data.apply(pd.to_numeric, errors='coerce')\n",
    "data = data.dropna(axis=1, how='any')\n",
    "imputer = SimpleImputer(strategy='mean')\n",
    "imputed_data = imputer.fit_transform(data)\n"
   ]
  },
  {
   "cell_type": "code",
   "execution_count": 4,
   "metadata": {},
   "outputs": [
    {
     "name": "stderr",
     "output_type": "stream",
     "text": [
      "/home/kunal/.local/lib/python3.10/site-packages/sklearn/feature_selection/_univariate_selection.py:109: RuntimeWarning: invalid value encountered in true_divide\n",
      "  msw = sswn / float(dfwn)\n"
     ]
    }
   ],
   "source": [
    "k_best = SelectKBest(k=20)  # Select the top 2 features\n",
    "data_k_best = k_best.fit_transform(imputed_data, data.index)\n",
    "\n",
    "rfe = RFE(estimator=RandomForestClassifier(), n_features_to_select=20, step=5)\n",
    "data_rfe = rfe.fit_transform(imputed_data, data.index)"
   ]
  },
  {
   "cell_type": "code",
   "execution_count": 1,
   "metadata": {},
   "outputs": [
    {
     "ename": "NameError",
     "evalue": "name 'KMeans' is not defined",
     "output_type": "error",
     "traceback": [
      "\u001b[0;31m---------------------------------------------------------------------------\u001b[0m",
      "\u001b[0;31mNameError\u001b[0m                                 Traceback (most recent call last)",
      "Cell \u001b[0;32mIn[1], line 3\u001b[0m\n\u001b[1;32m      1\u001b[0m n_clusters \u001b[39m=\u001b[39m \u001b[39m3\u001b[39m\n\u001b[0;32m----> 3\u001b[0m kmeans_k_best \u001b[39m=\u001b[39m KMeans(n_clusters\u001b[39m=\u001b[39mn_clusters, n_init\u001b[39m=\u001b[39m\u001b[39m10\u001b[39m, random_state\u001b[39m=\u001b[39m\u001b[39m42\u001b[39m)\n\u001b[1;32m      4\u001b[0m cluster_assignments_k_best \u001b[39m=\u001b[39m kmeans_k_best\u001b[39m.\u001b[39mfit_predict(data_k_best)\n\u001b[1;32m      6\u001b[0m kmeans_rfe \u001b[39m=\u001b[39m KMeans(n_clusters\u001b[39m=\u001b[39mn_clusters, n_init\u001b[39m=\u001b[39m\u001b[39m10\u001b[39m, random_state\u001b[39m=\u001b[39m\u001b[39m42\u001b[39m)\n",
      "\u001b[0;31mNameError\u001b[0m: name 'KMeans' is not defined"
     ]
    }
   ],
   "source": [
    "n_clusters = 3\n",
    "\n",
    "kmeans_k_best = KMeans(n_clusters=n_clusters, n_init=10, random_state=42)\n",
    "cluster_assignments_k_best = kmeans_k_best.fit_predict(data_k_best)\n",
    "\n",
    "kmeans_rfe = KMeans(n_clusters=n_clusters, n_init=10, random_state=42)\n",
    "cluster_assignments_rfe = kmeans_rfe.fit_predict(data_rfe)\n",
    "\n",
    "# Plot the clustering assignments for both RPE and SelectKBest\n",
    "plt.figure(figsize=(16, 6))\n",
    "\n",
    "plt.subplot(1, 2, 1)\n",
    "for i in range(n_clusters):\n",
    "    plt.scatter(data_k_best[cluster_assignments_k_best == i, 0],\n",
    "                data_k_best[cluster_assignments_k_best == i, 1],\n",
    "                label=f'Cluster {i+1}')\n",
    "plt.xlabel('Feature 1')\n",
    "plt.ylabel('Feature 2')\n",
    "plt.legend()\n",
    "plt.title('Clustering Assignments using SelectKBest')\n",
    "\n",
    "plt.subplot(1, 2, 2)\n",
    "for i in range(n_clusters):\n",
    "    plt.scatter(data_rfe[cluster_assignments_rfe == i, 0],\n",
    "                data_rfe[cluster_assignments_rfe == i, 1],\n",
    "                label=f'Cluster {i+1}')\n",
    "plt.xlabel('Feature 1')\n",
    "plt.ylabel('Feature 2')\n",
    "plt.legend()\n",
    "plt.title('Clustering Assignments using RFE')\n",
    "\n",
    "plt.show()\n"
   ]
  }
 ],
 "metadata": {
  "kernelspec": {
   "display_name": "Python 3",
   "language": "python",
   "name": "python3"
  },
  "language_info": {
   "codemirror_mode": {
    "name": "ipython",
    "version": 3
   },
   "file_extension": ".py",
   "mimetype": "text/x-python",
   "name": "python",
   "nbconvert_exporter": "python",
   "pygments_lexer": "ipython3",
   "version": "3.10.6"
  },
  "orig_nbformat": 4
 },
 "nbformat": 4,
 "nbformat_minor": 2
}
